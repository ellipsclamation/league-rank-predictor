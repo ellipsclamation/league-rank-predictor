{
 "cells": [
  {
   "cell_type": "markdown",
   "metadata": {},
   "source": [
    "Henry Ho 304723723"
   ]
  },
  {
   "cell_type": "markdown",
   "metadata": {},
   "source": [
    "# League Rank Predictor"
   ]
  },
  {
   "cell_type": "markdown",
   "metadata": {},
   "source": [
    "Uses Riot Developer's api V3 (https://developer.riotgames.com/) and seeded data to predict the \"highest achieved season tier\" for each player using the data from matches as features."
   ]
  },
  {
   "cell_type": "code",
   "execution_count": 1,
   "metadata": {
    "collapsed": true
   },
   "outputs": [],
   "source": [
    "import pandas as pd\n",
    "import time"
   ]
  },
  {
   "cell_type": "markdown",
   "metadata": {},
   "source": [
    "## Read API key"
   ]
  },
  {
   "cell_type": "markdown",
   "metadata": {},
   "source": [
    "### Get your own API key from https://developer.riotgames.com/ and put it in api_key.txt"
   ]
  },
  {
   "cell_type": "code",
   "execution_count": 2,
   "metadata": {
    "collapsed": true
   },
   "outputs": [],
   "source": [
    "# Reads the api key from a .txt file \"api_key.txt\"\n",
    "\n",
    "file_path = \"api_key.txt\"\n",
    "\n",
    "api_key = \"\"\n",
    "\n",
    "with open(file_path) as f:\n",
    "    api_key = f.readline()"
   ]
  },
  {
   "cell_type": "markdown",
   "metadata": {},
   "source": [
    "## Function for searching by summoner name"
   ]
  },
  {
   "cell_type": "code",
   "execution_count": 3,
   "metadata": {
    "collapsed": true
   },
   "outputs": [],
   "source": [
    "import json\n",
    "import requests\n",
    "\n",
    "# Searches name in api and returns the player's account id\n",
    "def get_account_id(name):\n",
    "    \n",
    "    URL = \"https://na1.api.riotgames.com/lol/summoner/v3/summoners/\"\n",
    "    \n",
    "    URI = \"{}by-name/{}?api_key={}\".format(URL, name, api_key)\n",
    "    response = requests.get(URI)\n",
    "    account_id = response.json()['accountId']\n",
    "    return account_id"
   ]
  },
  {
   "cell_type": "markdown",
   "metadata": {},
   "source": [
    "## Function for getting the match_ids of the last 20 matches played with summoner name"
   ]
  },
  {
   "cell_type": "code",
   "execution_count": 4,
   "metadata": {
    "collapsed": true
   },
   "outputs": [],
   "source": [
    "# Searches name in api and returns a list of match ids of the last 20 matches played\n",
    "def get_match_ids(name):\n",
    "    \n",
    "    match_ids = []\n",
    "    \n",
    "    URL = \"https://na1.api.riotgames.com/lol/match/v3/matchlists/\"\n",
    "    \n",
    "    account_id = get_account_id(name)\n",
    "    \n",
    "    URI = \"{}by-account/{}/recent?api_key={}\".format(URL, account_id, api_key)\n",
    "    response = requests.get(URI)\n",
    "    \n",
    "    for matches in response.json()['matches']:\n",
    "        match_id = matches['gameId']\n",
    "        match_ids.append(match_id)\n",
    "    \n",
    "    return match_ids"
   ]
  },
  {
   "cell_type": "markdown",
   "metadata": {},
   "source": [
    "## Function for getting dataframe of player's stats with the summoner name"
   ]
  },
  {
   "cell_type": "code",
   "execution_count": 5,
   "metadata": {},
   "outputs": [],
   "source": [
    "# Searches name in api and returns a dataframe of the player's stats\n",
    "def get_stats(name):\n",
    "    \n",
    "    stats_df = pd.DataFrame(columns = ['win', 'role', 'kills', 'deaths', 'assists', 'gameDuration', 'goldEarned', 'totalMinionsKilled', 'damageDealtToObjectives', 'totalDamageDealt', 'totalDamageTaken', 'wardsPlaced', 'highestAchievedSeasonTier'])\n",
    "    matches = []\n",
    "    participant_ids = []\n",
    "    \n",
    "    URL = \"https://na1.api.riotgames.com/lol/match/v3/\"\n",
    "    \n",
    "    account_id = get_account_id(name)\n",
    "    match_ids = get_match_ids(name)\n",
    "    \n",
    "    # Gets participant id of the match from all 20 matches\n",
    "    for match_id in match_ids:\n",
    "        URI = \"{}matches/{}?api_key={}\".format(URL, match_id, api_key)\n",
    "        response = requests.get(URI)\n",
    "        \n",
    "        matches.append(response.json())\n",
    "        \n",
    "        for participant in response.json()['participantIdentities']:\n",
    "            if participant['player']['accountId'] == account_id:\n",
    "                participant_id = participant['participantId']\n",
    "                participant_ids.append(participant_id)\n",
    "                \n",
    "        # .2 second delay for rate api rate limits\n",
    "        time.sleep(.2)\n",
    "        \n",
    "    # Gets player's stats and inserts it into a dataframe\n",
    "    for match in matches:\n",
    "        for participant in match['participants']:\n",
    "            if participant['participantId'] == participant_ids[0] and match['gameMode'] != 'ARAM':\n",
    "                stats_df = stats_df.append({'win': participant['stats']['win'],\n",
    "                                            'role': participant['timeline']['role'],\n",
    "                                            'kills': participant['stats']['kills'],\n",
    "                                            'deaths': participant['stats']['deaths'],\n",
    "                                            'assists': participant['stats']['assists'],\n",
    "                                            'gameDuration': match['gameDuration'],\n",
    "                                            'goldEarned': participant['stats']['goldEarned'],\n",
    "                                            'totalMinionsKilled': participant['stats']['totalMinionsKilled'],\n",
    "                                            'damageDealtToObjectives': participant['stats']['damageDealtToObjectives'],\n",
    "                                            'totalDamageDealt': participant['stats']['totalDamageDealt'],\n",
    "                                            'totalDamageTaken': participant['stats']['totalDamageTaken'],\n",
    "                                            'wardsPlaced': participant['stats']['wardsPlaced'],\n",
    "                                            'highestAchievedSeasonTier': participant['highestAchievedSeasonTier']}, ignore_index=True)\n",
    "\n",
    "                participant_ids.pop(0)\n",
    "                break\n",
    "                \n",
    "    return stats_df\n",
    "            "
   ]
  },
  {
   "cell_type": "code",
   "execution_count": 6,
   "metadata": {
    "scrolled": false
   },
   "outputs": [
    {
     "name": "stdout",
     "output_type": "stream",
     "text": [
      "name: Imaqtpie\n",
      "\n",
      "account id: 32639237\n",
      "\n",
      "match ids: [2648723830, 2638815666, 2634541288, 2634537914, 2634528085, 2634534978, 2629001744, 2628979135, 2628984310, 2628971679, 2628769295, 2628817078, 2628814705, 2628802983, 2628762055, 2628810855, 2623341442, 2623239133, 2623228110, 2623236486]\n",
      "\n",
      "stats: \n",
      "      win         role kills deaths assists gameDuration goldEarned  \\\n",
      "0   False    DUO_CARRY     8      9       9         1802      12823   \n",
      "1   False         SOLO     2      4      12         1870      11271   \n",
      "2   False         SOLO     1      7       2          941       4445   \n",
      "3    True         SOLO    10      3       9         1336      10985   \n",
      "4   False    DUO_CARRY     5     10       1         1645      10178   \n",
      "5    True    DUO_CARRY     7      2      10         2006      14511   \n",
      "6    True  DUO_SUPPORT     0      0      11         1217       7488   \n",
      "7    True    DUO_CARRY    12      4       6         1943      15454   \n",
      "8   False         NONE     3      6       6         1876      12154   \n",
      "9    True  DUO_SUPPORT     7      3      18         1814      12293   \n",
      "10  False         NONE     4     13       4         1824       9694   \n",
      "11  False         SOLO     7      4       7         1795      11179   \n",
      "12   True    DUO_CARRY     3      5      11         1431       9744   \n",
      "13  False  DUO_SUPPORT     1      9      10         1548       7441   \n",
      "14   True    DUO_CARRY     4      2       5         1385       8998   \n",
      "15  False    DUO_CARRY     1      4       2         1391       7421   \n",
      "16   True  DUO_SUPPORT     1      3      23         1739      11150   \n",
      "17   True         NONE     4      5      11         1870      13731   \n",
      "18  False  DUO_SUPPORT     3      6       3         1459       6290   \n",
      "\n",
      "   totalMinionsKilled damageDealtToObjectives totalDamageDealt  \\\n",
      "0                 203                    3773           163454   \n",
      "1                 208                    1285           142222   \n",
      "2                  67                       0            26143   \n",
      "3                 152                    5348           103011   \n",
      "4                 188                     105            95606   \n",
      "5                 228                   20836           166854   \n",
      "6                  11                    4616            14000   \n",
      "7                 231                   21903           159156   \n",
      "8                  36                   26265           180656   \n",
      "9                  44                    6234            67137   \n",
      "10                 46                    6932           105665   \n",
      "11                174                    5908           131844   \n",
      "12                147                    8207            96800   \n",
      "13                 20                     890            23509   \n",
      "14                174                    6589            86688   \n",
      "15                178                    1175            78228   \n",
      "16                 13                    4105            21721   \n",
      "17                195                    6310           152858   \n",
      "18                  4                       0            19749   \n",
      "\n",
      "   totalDamageTaken wardsPlaced highestAchievedSeasonTier  \n",
      "0             20905          15                CHALLENGER  \n",
      "1             20745          11                    MASTER  \n",
      "2             11395           3                   DIAMOND  \n",
      "3             19383          10                    MASTER  \n",
      "4             20059          10                    MASTER  \n",
      "5             17889          10                   DIAMOND  \n",
      "6              5221           9                   DIAMOND  \n",
      "7             17246           9                    MASTER  \n",
      "8             25740           5                   DIAMOND  \n",
      "9             16986          31                   DIAMOND  \n",
      "10            27898          11                    MASTER  \n",
      "11            19310          11                   DIAMOND  \n",
      "12            12800          13                   DIAMOND  \n",
      "13            16986           8                CHALLENGER  \n",
      "14             9133          10                CHALLENGER  \n",
      "15            11532          10                CHALLENGER  \n",
      "16             9587          24                  UNRANKED  \n",
      "17            21703          15                    MASTER  \n",
      "18            12284           5                  PLATINUM  \n",
      "\n",
      "\n"
     ]
    }
   ],
   "source": [
    "name = \"Imaqtpie\"\n",
    "print(\"name: {}\\n\".format(name))\n",
    "\n",
    "account_id = get_account_id(name)\n",
    "print(\"account id: {}\\n\".format(account_id))\n",
    "\n",
    "match_ids = get_match_ids(name)\n",
    "print(\"match ids: {}\\n\".format(match_ids))\n",
    "\n",
    "stats = get_stats(name)\n",
    "print(\"stats: \")\n",
    "print(stats)\n",
    "print(\"\\n\")\n",
    "\n",
    "# TODO: GET THE MEAN OF THE STATS OF THE LAST 20 MATCHES\n",
    "\n",
    "# TODO: TEST THE MEAN OF THE STATS ON THE TRAINED DATASET"
   ]
  },
  {
   "cell_type": "code",
   "execution_count": null,
   "metadata": {
    "collapsed": true
   },
   "outputs": [],
   "source": []
  }
 ],
 "metadata": {
  "kernelspec": {
   "display_name": "Python 3",
   "language": "python",
   "name": "python3"
  },
  "language_info": {
   "codemirror_mode": {
    "name": "ipython",
    "version": 3
   },
   "file_extension": ".py",
   "mimetype": "text/x-python",
   "name": "python",
   "nbconvert_exporter": "python",
   "pygments_lexer": "ipython3",
   "version": "3.6.3"
  }
 },
 "nbformat": 4,
 "nbformat_minor": 2
}
