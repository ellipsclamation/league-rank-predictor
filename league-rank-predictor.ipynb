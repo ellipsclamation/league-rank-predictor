{
 "cells": [
  {
   "cell_type": "markdown",
   "metadata": {},
   "source": [
    "Henry Ho 304723723"
   ]
  },
  {
   "cell_type": "markdown",
   "metadata": {},
   "source": [
    "# League Rank Predictor"
   ]
  },
  {
   "cell_type": "markdown",
   "metadata": {},
   "source": [
    "Uses Riot Developer's api V3 (https://developer.riotgames.com/) and seeded data to predict the \"highest achieved season tier\" for each player using the data from matches as features."
   ]
  },
  {
   "cell_type": "markdown",
   "metadata": {},
   "source": [
    "Features include:\n",
    "\n",
    "Labels include:\n",
    "- UNRANKED\n",
    "- BRONZE\n",
    "- SILVER\n",
    "- GOLD\n",
    "- PLATINUM\n",
    "- DIAMOND\n",
    "- MASTERS\n",
    "- CHALLENGER"
   ]
  },
  {
   "cell_type": "code",
   "execution_count": 1,
   "metadata": {
    "collapsed": true
   },
   "outputs": [],
   "source": [
    "# Import pandas\n",
    "import pandas as pd"
   ]
  },
  {
   "cell_type": "markdown",
   "metadata": {},
   "source": [
    "## Create Dataframe using Riot's seeded data"
   ]
  },
  {
   "cell_type": "code",
   "execution_count": 2,
   "metadata": {
    "collapsed": true
   },
   "outputs": [],
   "source": [
    "# Creating empty dataframe\n",
    "stats_df = pd.DataFrame()"
   ]
  },
  {
   "cell_type": "markdown",
   "metadata": {},
   "source": [
    "### Parse seeded data"
   ]
  },
  {
   "cell_type": "code",
   "execution_count": 3,
   "metadata": {
    "collapsed": true
   },
   "outputs": [],
   "source": [
    "# Importing JSON\n",
    "import json\n",
    "\n",
    "# Function gets stats from seeded data and returns a dataframe\n",
    "def get_stats(*files):\n",
    "    df = pd.DataFrame()\n",
    "    \n",
    "    if len(files) == 1:\n",
    "        df = parse_json(files)\n",
    "    elif len(files) > 1:\n",
    "        for file in files:\n",
    "            df = df.append(parse_json(file), ignore_index=True)\n",
    "            \n",
    "    return df\n",
    "        \n",
    "# Function that parses json file into a dataframe\n",
    "def parse_json(file):\n",
    "    df = pd.DataFrame(columns = ['win', 'role', 'kills', 'deaths', 'assists', 'gameDuration', 'goldEarned', 'totalMinionsKilled', 'damageDealtToObjectives', 'totalDamageDealt', 'totalDamageTaken', 'wardsPlaced', 'highestAchievedSeasonTier'])\n",
    "    matches = pd.read_json(path_or_buf=file)\n",
    "    \n",
    "    for match in matches['matches']:\n",
    "        for participant in match['participants']:\n",
    "            \n",
    "            df = df.append({'win': participant['stats']['win'],\n",
    "                            'role': participant['timeline']['role'],\n",
    "                            'kills': participant['stats']['kills'],\n",
    "                            'deaths': participant['stats']['deaths'],\n",
    "                            'assists': participant['stats']['assists'],\n",
    "                            'gameDuration': match['gameDuration'],\n",
    "                            'goldEarned': participant['stats']['goldEarned'],\n",
    "                            'totalMinionsKilled': participant['stats']['totalMinionsKilled'],\n",
    "                            'damageDealtToObjectives': participant['stats']['damageDealtToObjectives'],\n",
    "                            'totalDamageDealt': participant['stats']['totalDamageDealt'],\n",
    "                            'totalDamageTaken': participant['stats']['totalDamageTaken'],\n",
    "                            'wardsPlaced': participant['stats']['wardsPlaced'],\n",
    "                            'highestAchievedSeasonTier': participant['highestAchievedSeasonTier']}, ignore_index=True)\n",
    "\n",
    "    return df"
   ]
  },
  {
   "cell_type": "code",
   "execution_count": 4,
   "metadata": {},
   "outputs": [
    {
     "name": "stdout",
     "output_type": "stream",
     "text": [
      "        win         role kills deaths assists gameDuration goldEarned  \\\n",
      "0      True         SOLO    17      5      25         3509      26248   \n",
      "1      True    DUO_CARRY    24     14      15         3509      28906   \n",
      "2      True  DUO_SUPPORT     8     17      22         3509      18845   \n",
      "3      True         NONE     7      7      29         3509      19404   \n",
      "4      True         SOLO    10     10      20         3509      20805   \n",
      "5     False         NONE     8     15      12         3509      19921   \n",
      "6     False         SOLO    14     13      12         3509      22644   \n",
      "7     False  DUO_SUPPORT    11     15      16         3509      20659   \n",
      "8     False    DUO_CARRY     8     12      18         3509      22493   \n",
      "9     False         SOLO    12     11      13         3509      22368   \n",
      "10    False         SOLO     3      8      14         3105      17936   \n",
      "11    False  DUO_SUPPORT     8     10      16         3105      19876   \n",
      "12    False    DUO_CARRY     9     12      14         3105      18803   \n",
      "13    False         NONE     8     15      17         3105      18682   \n",
      "14    False         SOLO    19     13      11         3105      21040   \n",
      "15     True  DUO_SUPPORT     1      6      29         3105      16889   \n",
      "16     True    DUO_CARRY    12     13      17         3105      19899   \n",
      "17     True         SOLO     4     11      18         3105      18700   \n",
      "18     True         SOLO    29      6      10         3105      26839   \n",
      "19     True         NONE    11     11      16         3105      22211   \n",
      "20    False    DUO_CARRY     7      6      10         2764      16465   \n",
      "21    False  DUO_SUPPORT     3      8      10         2764      15051   \n",
      "22    False         NONE    10      3       5         2764      18935   \n",
      "23    False         SOLO     3      8       8         2764      14144   \n",
      "24    False         SOLO     5      6       9         2764      15297   \n",
      "25     True         SOLO    10      6       4         2764      21738   \n",
      "26     True         NONE     8      6       9         2764      18593   \n",
      "27     True  DUO_SUPPORT     5      5      17         2764      15292   \n",
      "28     True         SOLO     0      7      13         2764      16200   \n",
      "29     True    DUO_CARRY     8      4       8         2764      19933   \n",
      "...     ...          ...   ...    ...     ...          ...        ...   \n",
      "9970  False    DUO_CARRY     4      6       3         1659       9475   \n",
      "9971  False  DUO_SUPPORT     2      8       5         1659       7329   \n",
      "9972  False         SOLO     4      8       5         1659       8803   \n",
      "9973  False         SOLO     7      7       6         1659      10698   \n",
      "9974  False         NONE     0      6       7         1659       7753   \n",
      "9975   True         SOLO     5      4       6         1659      12057   \n",
      "9976   True         NONE     9      6       4         1659      12823   \n",
      "9977   True         SOLO    14      1       1         1659      15345   \n",
      "9978   True  DUO_SUPPORT     2      3      13         1659      11384   \n",
      "9979   True    DUO_CARRY     5      3      12         1659      13902   \n",
      "9980  False         NONE     5      6       4         1573       8366   \n",
      "9981  False  DUO_SUPPORT     0      3       8         1573       7308   \n",
      "9982  False         SOLO     0      2       1         1573       7731   \n",
      "9983  False    DUO_CARRY     4      6       2         1573       9406   \n",
      "9984  False         SOLO     6      5       2         1573       9758   \n",
      "9985   True         SOLO     2      0       7         1573      10842   \n",
      "9986   True    DUO_CARRY     6      3       6         1573      11856   \n",
      "9987   True  DUO_SUPPORT     2      2      12         1573       8156   \n",
      "9988   True         SOLO     5      6       4         1573       9821   \n",
      "9989   True         NONE     7      4       6         1573      12884   \n",
      "9990   True         SOLO     8      1      12         1830      13911   \n",
      "9991   True  DUO_SUPPORT     0      1      16         1830      10658   \n",
      "9992   True    DUO_CARRY     5      6       5         1830      12409   \n",
      "9993   True         SOLO     7      2      14         1830      12744   \n",
      "9994   True         NONE     9      4       7         1830      12916   \n",
      "9995  False         SOLO     5      6       3         1830       9610   \n",
      "9996  False  DUO_SUPPORT     0      1       8         1830       8991   \n",
      "9997  False         SOLO     6      8       3         1830      11218   \n",
      "9998  False         NONE     3      8       3         1830       9150   \n",
      "9999  False    DUO_CARRY     0      6       4         1830       9369   \n",
      "\n",
      "     totalMinionsKilled damageDealtToObjectives totalDamageDealt  \\\n",
      "0                   373                   17163           335249   \n",
      "1                   403                   34924           495365   \n",
      "2                    68                    4738            99302   \n",
      "3                    86                    8750           232614   \n",
      "4                   287                    8416           247818   \n",
      "5                    57                   23418           198357   \n",
      "6                   269                    7823           261576   \n",
      "7                    95                    3979           107597   \n",
      "8                   285                   18231           349693   \n",
      "9                   226                    9355           247650   \n",
      "10                  232                    6644           187559   \n",
      "11                  175                    4998           253242   \n",
      "12                  263                   11502           241628   \n",
      "13                  142                   20970           271639   \n",
      "14                  246                   10447           260818   \n",
      "15                   56                    2378            65989   \n",
      "16                  227                   36480           252478   \n",
      "17                  230                    8764           203395   \n",
      "18                  260                   28011           293940   \n",
      "19                  193                   10598           363049   \n",
      "20                  254                    6125           181785   \n",
      "21                  111                    2576           135648   \n",
      "22                  175                   27940           328968   \n",
      "23                  212                    1814           139910   \n",
      "24                  250                    2782           172490   \n",
      "25                  355                    6872           435091   \n",
      "26                   92                   30445           302415   \n",
      "27                   23                    3672            40475   \n",
      "28                  232                    9696           177669   \n",
      "29                  310                   39415           323160   \n",
      "...                 ...                     ...              ...   \n",
      "9970                178                       0           121401   \n",
      "9971                  9                       0             4260   \n",
      "9972                161                     293            90575   \n",
      "9973                194                     657           120831   \n",
      "9974                 25                       0            98687   \n",
      "9975                206                    5271           131223   \n",
      "9976                 61                   15114           150992   \n",
      "9977                207                    8296           170063   \n",
      "9978                 22                    2386            23206   \n",
      "9979                204                   47431           199808   \n",
      "9980                 38                    6960            92942   \n",
      "9981                 13                    1021            11631   \n",
      "9982                142                    3613            72697   \n",
      "9983                197                     315           110444   \n",
      "9984                186                    3688           114173   \n",
      "9985                177                   19283           103740   \n",
      "9986                184                    9720           113592   \n",
      "9987                 29                    1502            17217   \n",
      "9988                116                    3927            74291   \n",
      "9989                 86                   21648           193064   \n",
      "9990                166                   16482           140506   \n",
      "9991                 21                    3634            28546   \n",
      "9992                204                   12046           151070   \n",
      "9993                135                   13677           101763   \n",
      "9994                 35                   14833           154458   \n",
      "9995                153                     823           100608   \n",
      "9996                 13                     569            26075   \n",
      "9997                184                    6387           147913   \n",
      "9998                 20                     848           110854   \n",
      "9999                179                    4397           121355   \n",
      "\n",
      "     totalDamageTaken wardsPlaced highestAchievedSeasonTier  \n",
      "0               82758          27                  UNRANKED  \n",
      "1               53588          15                      GOLD  \n",
      "2               45592          20                    SILVER  \n",
      "3               74041          19                      GOLD  \n",
      "4               34139          11                    SILVER  \n",
      "5               75674          16                    SILVER  \n",
      "6               50888           5                  UNRANKED  \n",
      "7               52128          33                    SILVER  \n",
      "8               44078          21                  PLATINUM  \n",
      "9               42983          12                      GOLD  \n",
      "10              42377          19                    SILVER  \n",
      "11              25356          20                    SILVER  \n",
      "12              47350          21                    SILVER  \n",
      "13              75304          24                      GOLD  \n",
      "14              48884          26                  UNRANKED  \n",
      "15              32536          38                    SILVER  \n",
      "16              46196          12                    SILVER  \n",
      "17              37087          20                      GOLD  \n",
      "18              46339          25                      GOLD  \n",
      "19              54150          23                  PLATINUM  \n",
      "20              21878          20                      GOLD  \n",
      "21              23149          19                      GOLD  \n",
      "22              37720          20                      GOLD  \n",
      "23              35655          14                    SILVER  \n",
      "24              22407          10                    SILVER  \n",
      "25              25955          16                      GOLD  \n",
      "26              44846          22                    SILVER  \n",
      "27              29133          42                      GOLD  \n",
      "28              22885          16                      GOLD  \n",
      "29              23538          12                      GOLD  \n",
      "...               ...         ...                       ...  \n",
      "9970            15422          11                  PLATINUM  \n",
      "9971            14418          18                  PLATINUM  \n",
      "9972            27297           7                   DIAMOND  \n",
      "9973            14895           5                  PLATINUM  \n",
      "9974            29386          16                  PLATINUM  \n",
      "9975            18945          11                  PLATINUM  \n",
      "9976            22015          11                  PLATINUM  \n",
      "9977            20037          12                   DIAMOND  \n",
      "9978            19553          30                  PLATINUM  \n",
      "9979            13398          12                  PLATINUM  \n",
      "9980            23382           8                  UNRANKED  \n",
      "9981             7943          18                  PLATINUM  \n",
      "9982            13138           8                      GOLD  \n",
      "9983            12239           9                    SILVER  \n",
      "9984            15259           7                      GOLD  \n",
      "9985             9513          11                  PLATINUM  \n",
      "9986            12020          12                  PLATINUM  \n",
      "9987            11329          12                    SILVER  \n",
      "9988            13391           9                    SILVER  \n",
      "9989            28517           9                  PLATINUM  \n",
      "9990            20611          10                    SILVER  \n",
      "9991            10574           9                  UNRANKED  \n",
      "9992            28896           5                    SILVER  \n",
      "9993            29016          11                    SILVER  \n",
      "9994            35892           6                    SILVER  \n",
      "9995            30093          12                    SILVER  \n",
      "9996             7850          10                    SILVER  \n",
      "9997            32873           9                    BRONZE  \n",
      "9998            29057          17                    SILVER  \n",
      "9999            14392          11                  UNRANKED  \n",
      "\n",
      "[10000 rows x 13 columns]\n"
     ]
    }
   ],
   "source": [
    "# datasets = ['datasets/matches1.json', 'datasets/matches2.json', 'datasets/matches3.json', \n",
    "#             'datasets/matches4.json', 'datasets/matches5.json', 'datasets/matches6.json', \n",
    "#             'datasets/matches7.json', 'datasets/matches8.json', 'datasets/matches9.json', \n",
    "#             'datasets/matches10.json']\n",
    "\n",
    "datasets = ['datasets/matches1.json', 'datasets/matches2.json', 'datasets/matches3.json',\n",
    "            'datasets/matches4.json', 'datasets/matches5.json', 'datasets/matches6.json', \n",
    "            'datasets/matches7.json', 'datasets/matches8.json', 'datasets/matches9.json',\n",
    "            'datasets/matches10.json']\n",
    "stats_df = get_stats(*datasets)\n",
    "print(stats_df)"
   ]
  },
  {
   "cell_type": "code",
   "execution_count": 5,
   "metadata": {},
   "outputs": [
    {
     "name": "stdout",
     "output_type": "stream",
     "text": [
      "Index(['win', 'role', 'kills', 'deaths', 'assists', 'gameDuration',\n",
      "       'goldEarned', 'totalMinionsKilled', 'damageDealtToObjectives',\n",
      "       'totalDamageDealt', 'totalDamageTaken', 'wardsPlaced'],\n",
      "      dtype='object')\n"
     ]
    }
   ],
   "source": [
    "print(stats_df.columns[:-1])"
   ]
  },
  {
   "cell_type": "markdown",
   "metadata": {},
   "source": [
    "# KNN, Decision Tree, Logistic Regression, Random Forest without One Hot Encoding"
   ]
  },
  {
   "cell_type": "code",
   "execution_count": 6,
   "metadata": {
    "collapsed": true
   },
   "outputs": [],
   "source": [
    "feature_cols = ['kills', 'deaths', 'gameDuration', 'goldEarned', 'totalMinionsKilled', 'damageDealtToObjectives', 'totalDamageDealt', 'wardsPlaced']\n",
    "X = stats_df[feature_cols]\n",
    "\n",
    "y = stats_df['highestAchievedSeasonTier']\n"
   ]
  },
  {
   "cell_type": "code",
   "execution_count": 7,
   "metadata": {
    "collapsed": true
   },
   "outputs": [],
   "source": [
    "from sklearn.model_selection import train_test_split\n",
    "\n",
    "X_train, X_test, y_train, y_test = train_test_split(X, y, test_size=0.3, random_state=3)\n"
   ]
  },
  {
   "cell_type": "code",
   "execution_count": 8,
   "metadata": {},
   "outputs": [
    {
     "name": "stdout",
     "output_type": "stream",
     "text": [
      "0.235666666667\n"
     ]
    }
   ],
   "source": [
    "# KNN\n",
    "from sklearn.neighbors import KNeighborsClassifier\n",
    "from sklearn.metrics import accuracy_score\n",
    "\n",
    "# Instantiating an \"object\" of KNeighborsClassifier \"class\" with k=5:\n",
    "k = 5\n",
    "knn = KNeighborsClassifier(n_neighbors=k)\n",
    "knn.fit(X_train, y_train)\n",
    "y_predict_knn = knn.predict(X_test)\n",
    "\n",
    "\n",
    "accuracy_knn = accuracy_score(y_test, y_predict_knn)\n",
    "\n",
    "print(accuracy_knn)"
   ]
  },
  {
   "cell_type": "code",
   "execution_count": 9,
   "metadata": {},
   "outputs": [
    {
     "name": "stdout",
     "output_type": "stream",
     "text": [
      "0.234\n"
     ]
    }
   ],
   "source": [
    "# Decision Tree\n",
    "from sklearn.tree import DecisionTreeClassifier\n",
    "\n",
    "# \"my_decisiontree\" is instantiated as an \"object\" of DecisionTreeCLassifier \"class\"\n",
    "\n",
    "my_decisiontree = DecisionTreeClassifier()\n",
    "my_decisiontree.fit(X_train, y_train)\n",
    "y_predict_dt = my_decisiontree.predict(X_test)\n",
    "accuracy_dt = accuracy_score(y_test, y_predict_dt)\n",
    "\n",
    "print(accuracy_dt)"
   ]
  },
  {
   "cell_type": "code",
   "execution_count": 10,
   "metadata": {},
   "outputs": [
    {
     "name": "stdout",
     "output_type": "stream",
     "text": [
      "0.293666666667\n"
     ]
    }
   ],
   "source": [
    "# Logistic Regression\n",
    "from sklearn.linear_model import LogisticRegression\n",
    "\n",
    "# \"my_decisiontree\" is instantiated as an \"object\" of DecisionTreeCLassifier \"class\"\n",
    "\n",
    "my_logreg = LogisticRegression()\n",
    "my_logreg.fit(X_train, y_train)\n",
    "y_predict_lr = my_logreg.predict(X_test)\n",
    "accuracy_lr = accuracy_score(y_test, y_predict_lr)\n",
    "\n",
    "print(accuracy_lr)"
   ]
  },
  {
   "cell_type": "code",
   "execution_count": 11,
   "metadata": {},
   "outputs": [
    {
     "name": "stdout",
     "output_type": "stream",
     "text": [
      "0.258333333333\n"
     ]
    }
   ],
   "source": [
    "#Random Forest\n",
    "from sklearn.ensemble import RandomForestClassifier\n",
    "my_RandomForest = RandomForestClassifier(n_estimators = 19, bootstrap = True, random_state=2)\n",
    "\n",
    "my_RandomForest.fit(X_train, y_train)\n",
    "\n",
    "y_predict_rf = my_RandomForest.predict(X_test)\n",
    "\n",
    "accuracy_rf = accuracy_score(y_test, y_predict_rf)\n",
    "\n",
    "print(accuracy_rf)"
   ]
  },
  {
   "cell_type": "markdown",
   "metadata": {},
   "source": [
    "# Accuracy of KNN, Decision Tree, Logistic Regression, Random Forest"
   ]
  },
  {
   "cell_type": "code",
   "execution_count": 12,
   "metadata": {},
   "outputs": [
    {
     "name": "stdout",
     "output_type": "stream",
     "text": [
      "KNN:                  0.235666666667\n",
      "Decision Tree:        0.234\n",
      "Logistic Regression:  0.293666666667\n",
      "Random Forest:        0.258333333333\n"
     ]
    }
   ],
   "source": [
    "print(\"KNN:                 \", accuracy_knn)\n",
    "print(\"Decision Tree:       \", accuracy_dt)\n",
    "print(\"Logistic Regression: \", accuracy_lr)\n",
    "print(\"Random Forest:       \", accuracy_rf)"
   ]
  },
  {
   "cell_type": "markdown",
   "metadata": {},
   "source": [
    "# One Hot Encoding using KNN, Decision Tree, Logistic Regression"
   ]
  },
  {
   "cell_type": "code",
   "execution_count": 13,
   "metadata": {},
   "outputs": [
    {
     "name": "stdout",
     "output_type": "stream",
     "text": [
      "    win         role kills deaths assists gameDuration goldEarned  \\\n",
      "0  True         SOLO    17      5      25         3509      26248   \n",
      "1  True    DUO_CARRY    24     14      15         3509      28906   \n",
      "2  True  DUO_SUPPORT     8     17      22         3509      18845   \n",
      "3  True         NONE     7      7      29         3509      19404   \n",
      "4  True         SOLO    10     10      20         3509      20805   \n",
      "\n",
      "  totalMinionsKilled damageDealtToObjectives totalDamageDealt  \\\n",
      "0                373                   17163           335249   \n",
      "1                403                   34924           495365   \n",
      "2                 68                    4738            99302   \n",
      "3                 86                    8750           232614   \n",
      "4                287                    8416           247818   \n",
      "\n",
      "  totalDamageTaken wardsPlaced highestAchievedSeasonTier  \n",
      "0            82758          27                  UNRANKED  \n",
      "1            53588          15                      GOLD  \n",
      "2            45592          20                    SILVER  \n",
      "3            74041          19                      GOLD  \n",
      "4            34139          11                    SILVER  \n",
      "\n",
      "\n",
      "  kills deaths assists gameDuration goldEarned totalMinionsKilled  \\\n",
      "0    17      5      25         3509      26248                373   \n",
      "1    24     14      15         3509      28906                403   \n",
      "2     8     17      22         3509      18845                 68   \n",
      "3     7      7      29         3509      19404                 86   \n",
      "4    10     10      20         3509      20805                287   \n",
      "\n",
      "  damageDealtToObjectives totalDamageDealt totalDamageTaken wardsPlaced  \\\n",
      "0                   17163           335249            82758          27   \n",
      "1                   34924           495365            53588          15   \n",
      "2                    4738            99302            45592          20   \n",
      "3                    8750           232614            74041          19   \n",
      "4                    8416           247818            34139          11   \n",
      "\n",
      "   win_False  win_True  role_DUO  role_DUO_CARRY  role_DUO_SUPPORT  role_NONE  \\\n",
      "0          0         1         0               0                 0          0   \n",
      "1          0         1         0               1                 0          0   \n",
      "2          0         1         0               0                 1          0   \n",
      "3          0         1         0               0                 0          1   \n",
      "4          0         1         0               0                 0          0   \n",
      "\n",
      "   role_SOLO highestAchievedSeasonTier  \n",
      "0          1                  UNRANKED  \n",
      "1          0                      GOLD  \n",
      "2          0                    SILVER  \n",
      "3          0                      GOLD  \n",
      "4          1                    SILVER  \n"
     ]
    }
   ],
   "source": [
    "feature_cols = ['kills', 'deaths', 'gameDuration', 'goldEarned', 'totalMinionsKilled', 'damageDealtToObjectives', 'totalDamageDealt', 'wardsPlaced']\n",
    "X = stats_df[feature_cols]\n",
    "\n",
    "encoded_stats_df = pd.get_dummies(stats_df, columns = ['win', 'role'])\n",
    "\n",
    "cols = encoded_stats_df.columns.tolist()\n",
    "cols.append(cols.pop(cols.index('highestAchievedSeasonTier')))\n",
    "encoded_stats_df = encoded_stats_df.reindex(columns=cols)\n",
    "\n",
    "print(stats_df.head())\n",
    "print('\\n')\n",
    "print(encoded_stats_df.head())\n"
   ]
  },
  {
   "cell_type": "code",
   "execution_count": 14,
   "metadata": {},
   "outputs": [
    {
     "name": "stdout",
     "output_type": "stream",
     "text": [
      "     kills deaths gameDuration goldEarned totalMinionsKilled  \\\n",
      "5876     0      5         1718       7087                  7   \n",
      "6555    10     10         1544      10390                139   \n",
      "1448     0      7         1521       6155                 47   \n",
      "3351     5      3         1805      11262                 18   \n",
      "231      1      8         2499      15142                 56   \n",
      "\n",
      "     damageDealtToObjectives totalDamageDealt wardsPlaced  \n",
      "5876                     531            10099          26  \n",
      "6555                       0            85144           8  \n",
      "1448                    1256            29577          15  \n",
      "3351                    7396            30787          25  \n",
      "231                     6516           254831          16  \n",
      "\n",
      "\n",
      "5876    UNRANKED\n",
      "6555    PLATINUM\n",
      "1448        GOLD\n",
      "3351        GOLD\n",
      "231         GOLD\n",
      "Name: highestAchievedSeasonTier, dtype: object\n"
     ]
    }
   ],
   "source": [
    "\n",
    "X = encoded_stats_df[feature_cols]\n",
    "y = encoded_stats_df['highestAchievedSeasonTier']\n",
    "\n",
    "X_train, X_test, y_train, y_test = train_test_split(X, y, test_size=0.4, random_state=3)\n",
    "\n",
    "print(X_test.head())\n",
    "print('\\n')\n",
    "print(y_test.head())\n"
   ]
  },
  {
   "cell_type": "code",
   "execution_count": 15,
   "metadata": {},
   "outputs": [
    {
     "name": "stdout",
     "output_type": "stream",
     "text": [
      "0.221\n"
     ]
    }
   ],
   "source": [
    "#KNN\n",
    "k = 5\n",
    "knn = KNeighborsClassifier(n_neighbors=k)\n",
    "\n",
    "# Training only on the training set using the method \"fit\" \n",
    "# of the object along with training dataset and labels to train the model.\n",
    "knn.fit(X_train, y_train)\n",
    "\n",
    "# Testing on the testing set:\n",
    "y_predict_knn = knn.predict(X_test)\n",
    "\n",
    "# KNN Accuracy Evaluation\n",
    "accuracy_knn = accuracy_score(y_test, y_predict_knn)\n",
    "\n",
    "print(accuracy_knn)"
   ]
  },
  {
   "cell_type": "code",
   "execution_count": 16,
   "metadata": {},
   "outputs": [
    {
     "name": "stdout",
     "output_type": "stream",
     "text": [
      "0.23525\n"
     ]
    }
   ],
   "source": [
    "# Decision Tree\n",
    "\n",
    "my_decisiontree = DecisionTreeClassifier()\n",
    "\n",
    "# Training only on the training set using the method \"fit\" \n",
    "# of the object along with training dataset and labels to train the model.\n",
    "my_decisiontree.fit(X_train, y_train)\n",
    "\n",
    "# Testing on the testing set:\n",
    "y_predict_dt = my_decisiontree.predict(X_test)\n",
    "\n",
    "# Decision Tree Accuracy Evaluation\n",
    "accuracy_dt = accuracy_score(y_test, y_predict_dt)\n",
    "\n",
    "print(accuracy_dt)"
   ]
  },
  {
   "cell_type": "code",
   "execution_count": 17,
   "metadata": {},
   "outputs": [
    {
     "name": "stdout",
     "output_type": "stream",
     "text": [
      "0.296\n"
     ]
    }
   ],
   "source": [
    "# Logistic Regression\n",
    "\n",
    "# \"my_decisiontree\" is instantiated as an \"object\" of DecisionTreeCLassifier \"class\"\n",
    "\n",
    "my_logreg = LogisticRegression()\n",
    "\n",
    "# Training only on the training set using the method \"fit\" \n",
    "# of the object along with training dataset and labels to train the model.\n",
    "my_logreg.fit(X_train, y_train)\n",
    "\n",
    "# Testing on the testing set:\n",
    "y_predict_lr = my_logreg.predict(X_test)\n",
    "\n",
    "# Logistic Regression Accuracy Evaluation\n",
    "accuracy_lr = accuracy_score(y_test, y_predict_lr)\n",
    "\n",
    "print(accuracy_lr)"
   ]
  },
  {
   "cell_type": "code",
   "execution_count": 18,
   "metadata": {},
   "outputs": [
    {
     "name": "stdout",
     "output_type": "stream",
     "text": [
      "0.25925\n"
     ]
    }
   ],
   "source": [
    "#Random Forest\n",
    "my_RandomForest = RandomForestClassifier(n_estimators = 19, bootstrap = True, random_state=2)\n",
    "\n",
    "my_RandomForest.fit(X_train, y_train)\n",
    "\n",
    "y_predict_rf = my_RandomForest.predict(X_test)\n",
    "\n",
    "accuracy_rf = accuracy_score(y_test, y_predict_rf)\n",
    "\n",
    "print(accuracy_rf)"
   ]
  },
  {
   "cell_type": "markdown",
   "metadata": {},
   "source": [
    "# Accuracy of KNN, Decision Tree, Logistic Regression, Random Forest"
   ]
  },
  {
   "cell_type": "code",
   "execution_count": 19,
   "metadata": {},
   "outputs": [
    {
     "name": "stdout",
     "output_type": "stream",
     "text": [
      "KNN:                  0.221\n",
      "Decision Tree:        0.23525\n",
      "Logistic Regression:  0.296\n",
      "Random Forest:        0.25925\n"
     ]
    }
   ],
   "source": [
    "print(\"KNN:                 \", accuracy_knn)\n",
    "print(\"Decision Tree:       \", accuracy_dt)\n",
    "print(\"Logistic Regression: \", accuracy_lr)\n",
    "print(\"Random Forest:       \", accuracy_rf)"
   ]
  },
  {
   "cell_type": "code",
   "execution_count": null,
   "metadata": {
    "collapsed": true
   },
   "outputs": [],
   "source": []
  }
 ],
 "metadata": {
  "kernelspec": {
   "display_name": "Python 3",
   "language": "python",
   "name": "python3"
  },
  "language_info": {
   "codemirror_mode": {
    "name": "ipython",
    "version": 3
   },
   "file_extension": ".py",
   "mimetype": "text/x-python",
   "name": "python",
   "nbconvert_exporter": "python",
   "pygments_lexer": "ipython3",
   "version": "3.6.1"
  }
 },
 "nbformat": 4,
 "nbformat_minor": 2
}
