{
 "cells": [
  {
   "cell_type": "markdown",
   "metadata": {},
   "source": [
    "Henry Ho 304723723"
   ]
  },
  {
   "cell_type": "markdown",
   "metadata": {},
   "source": [
    "# League Rank Predictor"
   ]
  },
  {
   "cell_type": "markdown",
   "metadata": {},
   "source": [
    "Uses Riot Developer's api V3 (https://developer.riotgames.com/) and seeded data to predict the \"highest achieved season tier\" for each player using the data from matches as features."
   ]
  },
  {
   "cell_type": "code",
   "execution_count": 253,
   "metadata": {
    "collapsed": true
   },
   "outputs": [],
   "source": [
    "import pandas as pd\n",
    "# import numpy as np\n",
    "import time"
   ]
  },
  {
   "cell_type": "markdown",
   "metadata": {},
   "source": [
    "## Read API key"
   ]
  },
  {
   "cell_type": "markdown",
   "metadata": {},
   "source": [
    "### Get your own API key from https://developer.riotgames.com/ and put it in api_key.txt"
   ]
  },
  {
   "cell_type": "code",
   "execution_count": 254,
   "metadata": {},
   "outputs": [],
   "source": [
    "# Reads the api key from a .txt file \"api_key.txt\"\n",
    "\n",
    "file_path = \"api_key.txt\"\n",
    "\n",
    "api_key = \"\"\n",
    "\n",
    "with open(file_path) as f:\n",
    "    api_key = f.readline()"
   ]
  },
  {
   "cell_type": "markdown",
   "metadata": {},
   "source": [
    "## Method for searching by summoner name"
   ]
  },
  {
   "cell_type": "code",
   "execution_count": 255,
   "metadata": {
    "collapsed": true
   },
   "outputs": [],
   "source": [
    "import json\n",
    "import requests\n",
    "\n",
    "# Searches name in api and returns the player's account id\n",
    "def get_account_id(name):\n",
    "    \n",
    "    URL = \"https://na1.api.riotgames.com/lol/summoner/v3/summoners/\"\n",
    "    \n",
    "    URI = \"{}by-name/{}?api_key={}\".format(URL, name, api_key)\n",
    "    response = requests.get(URI)\n",
    "    account_id = response.json()['accountId']\n",
    "    return account_id"
   ]
  },
  {
   "cell_type": "markdown",
   "metadata": {},
   "source": [
    "## Method for getting the match_ids of the last 20 matches played with summoner name"
   ]
  },
  {
   "cell_type": "code",
   "execution_count": 256,
   "metadata": {},
   "outputs": [],
   "source": [
    "# Searches name in api and returns a list of match ids of the last 20 matches played\n",
    "def get_match_ids(name):\n",
    "    \n",
    "    match_ids = []\n",
    "    \n",
    "    URL = \"https://na1.api.riotgames.com/lol/match/v3/matchlists/\"\n",
    "    \n",
    "    player_id = get_player_id(name)\n",
    "    \n",
    "    URI = \"{}by-account/{}/recent?api_key={}\".format(URL, account_id, api_key)\n",
    "    response = requests.get(URI)\n",
    "    \n",
    "    for matches in response.json()['matches']:\n",
    "        match_id = matches['gameId']\n",
    "        match_ids.append(match_id)\n",
    "    \n",
    "    return match_ids"
   ]
  },
  {
   "cell_type": "markdown",
   "metadata": {},
   "source": [
    "## Method for getting dataframe of player's stats with the summoner name"
   ]
  },
  {
   "cell_type": "code",
   "execution_count": 257,
   "metadata": {},
   "outputs": [],
   "source": [
    "def get_stats(name):\n",
    "    \n",
    "    stats_df = pd.DataFrame(columns = ['win', 'kills', 'deaths', 'assists', 'goldEarned', 'totalMinionsKilled', 'damageDealtToObjectives', 'totalDamageDealt', 'totalDamageTaken', 'wardsPlaced', 'highestAchievedSeasonTier'])\n",
    "    matches = []\n",
    "    participant_ids = []\n",
    "    \n",
    "    URL = \"https://na1.api.riotgames.com/lol/match/v3/\"\n",
    "    \n",
    "    account_id = get_account_id(name)\n",
    "    match_ids = get_match_ids(name)\n",
    "    \n",
    "    # Gets participant id of the match from all 20 matches\n",
    "    for match_id in match_ids:\n",
    "        URI = \"{}matches/{}?api_key={}\".format(URL, match_id, api_key)\n",
    "        response = requests.get(URI)\n",
    "        \n",
    "        matches.append(response.json())\n",
    "        \n",
    "        for participant in response.json()['participantIdentities']:\n",
    "            if participant['player']['accountId'] == account_id:\n",
    "                participant_id = participant['participantId']\n",
    "                participant_ids.append(participant_id)\n",
    "                \n",
    "        # .2 second delay for rate api rate limits\n",
    "        time.sleep(.2)\n",
    "        \n",
    "    # Gets player's stats and inserts it into a dataframe\n",
    "    for match in matches:\n",
    "        for participant in match['participants']:\n",
    "            if participant['participantId'] == participant_ids[0]:\n",
    "                stats_df = stats_df.append({'win': participant['stats']['win'],\n",
    "                                            'kills': participant['stats']['kills'],\n",
    "                                            'deaths': participant['stats']['deaths'],\n",
    "                                            'assists': participant['stats']['assists'],\n",
    "                                            'goldEarned': participant['stats']['goldEarned'],\n",
    "                                            'totalMinionsKilled': participant['stats']['totalMinionsKilled'],\n",
    "                                            'damageDealtToObjectives': participant['stats']['damageDealtToObjectives'],\n",
    "                                            'totalDamageDealt': participant['stats']['totalDamageDealt'],\n",
    "                                            'totalDamageTaken': participant['stats']['totalDamageTaken'],\n",
    "                                            'wardsPlaced': participant['stats']['wardsPlaced'],\n",
    "                                            'highestAchievedSeasonTier': participant['highestAchievedSeasonTier']}, ignore_index=True)\n",
    "\n",
    "                participant_ids.pop(0)\n",
    "                break\n",
    "                \n",
    "    return stats_df\n",
    "            "
   ]
  },
  {
   "cell_type": "code",
   "execution_count": 258,
   "metadata": {
    "scrolled": false
   },
   "outputs": [
    {
     "name": "stdout",
     "output_type": "stream",
     "text": [
      "name: Imaqtpie\n",
      "\n",
      "account id: 32639237\n",
      "\n",
      "match ids: [2634541288, 2634537914, 2634528085, 2634534978, 2629001744, 2628979135, 2628984310, 2628971679, 2628769295, 2628817078, 2628814705, 2628802983, 2628762055, 2628810855, 2623341442, 2623239133, 2623228110, 2623236486, 2622640204, 2622629152]\n",
      "\n",
      "stats: \n",
      "      win kills deaths assists goldEarned totalMinionsKilled  \\\n",
      "0    True     5      3      17      11114                 48   \n",
      "1   False     1     10       1       4720                 81   \n",
      "2    True     2      2      18       6783                 33   \n",
      "3    True     6      5       6      10350                171   \n",
      "4   False     7      5       8      13597                231   \n",
      "5   False     1      6       2       6095                113   \n",
      "6    True     7      8      17      13961                 51   \n",
      "7    True     5      4       9      13968                229   \n",
      "8   False    12     10       3      14052                220   \n",
      "9    True    10      5       5      15339                235   \n",
      "10  False     5      6       5      11924                223   \n",
      "11  False     4      5       4       9340                170   \n",
      "12   True     9      5      13      13077                195   \n",
      "13   True     4      2       5       8998                174   \n",
      "14  False     1      4       2       7421                178   \n",
      "15  False     8      9       3      10720                 36   \n",
      "16  False     1      8       6      10151                217   \n",
      "17  False     0      4       4       7914                190   \n",
      "18  False     2      9       4      10346                175   \n",
      "19  False     4      4       1       6692                118   \n",
      "\n",
      "   damageDealtToObjectives totalDamageDealt totalDamageTaken wardsPlaced  \\\n",
      "0                      905            29087            20768          35   \n",
      "1                        0            33063            11800           5   \n",
      "2                     1508            24003            12618          13   \n",
      "3                     1957            99374            14768          12   \n",
      "4                     1791           189058            15370          14   \n",
      "5                        0            48317            11136           7   \n",
      "6                    10085           194047            35314           6   \n",
      "7                     7912           168348            19085          17   \n",
      "8                     6473           163490            29611          10   \n",
      "9                    15741           178677            17313          10   \n",
      "10                    8308           169809            23605          14   \n",
      "11                     651            89032            16542           8   \n",
      "12                   15780           143669            19457          10   \n",
      "13                    6589            86688             9133          10   \n",
      "14                    1175            78228            11532          10   \n",
      "15                       0           139331            26045          11   \n",
      "16                    3094           132323            21245          14   \n",
      "17                    1767            74032            13226           8   \n",
      "18                    6699            94312            22037          10   \n",
      "19                    1614            55825            12743           7   \n",
      "\n",
      "   highestAchievedSeasonTier  \n",
      "0                 CHALLENGER  \n",
      "1                 CHALLENGER  \n",
      "2                 CHALLENGER  \n",
      "3                 CHALLENGER  \n",
      "4                 CHALLENGER  \n",
      "5                 CHALLENGER  \n",
      "6                 CHALLENGER  \n",
      "7                 CHALLENGER  \n",
      "8                 CHALLENGER  \n",
      "9                 CHALLENGER  \n",
      "10                CHALLENGER  \n",
      "11                CHALLENGER  \n",
      "12                CHALLENGER  \n",
      "13                CHALLENGER  \n",
      "14                CHALLENGER  \n",
      "15                CHALLENGER  \n",
      "16                CHALLENGER  \n",
      "17                CHALLENGER  \n",
      "18                CHALLENGER  \n",
      "19                CHALLENGER  \n",
      "\n",
      "\n"
     ]
    }
   ],
   "source": [
    "name = \"Imaqtpie\"\n",
    "print(\"name: {}\\n\".format(name))\n",
    "\n",
    "account_id = get_account_id(name)\n",
    "print(\"account id: {}\\n\".format(account_id))\n",
    "\n",
    "match_ids = get_match_ids(name)\n",
    "print(\"match ids: {}\\n\".format(match_ids))\n",
    "\n",
    "stats = get_stats(name)\n",
    "print(\"stats: \")\n",
    "print(stats)\n",
    "print(\"\\n\")\n",
    "\n",
    "# TODO: GET THE MEAN OF THE STATS OF THE LAST 20 MATCHES\n",
    "\n",
    "# TODO: TEST THE MEAN OF THE STATS ON THE TRAINED DATASET"
   ]
  },
  {
   "cell_type": "code",
   "execution_count": 259,
   "metadata": {
    "collapsed": true
   },
   "outputs": [],
   "source": [
    "# TODO: CREATE DATAFRAME USING https://s3-us-west-1.amazonaws.com/riot-developer-portal/seed-data/matches1.json (matches1-10)\n",
    "\n",
    "# TODO: TRAIN/TEST USING DATA, TEST ACCURACY\n",
    "\n",
    "# TODO: TEST USING DATA OUTSIDE OF DATASET WITH THE MEAN OF get_stats() METHOD"
   ]
  }
 ],
 "metadata": {
  "kernelspec": {
   "display_name": "Python 3",
   "language": "python",
   "name": "python3"
  },
  "language_info": {
   "codemirror_mode": {
    "name": "ipython",
    "version": 3
   },
   "file_extension": ".py",
   "mimetype": "text/x-python",
   "name": "python",
   "nbconvert_exporter": "python",
   "pygments_lexer": "ipython3",
   "version": "3.6.2"
  }
 },
 "nbformat": 4,
 "nbformat_minor": 2
}
