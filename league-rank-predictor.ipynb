{
 "cells": [
  {
   "cell_type": "markdown",
   "metadata": {},
   "source": [
    "Henry Ho 304723723"
   ]
  },
  {
   "cell_type": "markdown",
   "metadata": {},
   "source": [
    "# League Rank Predictor"
   ]
  },
  {
   "cell_type": "markdown",
   "metadata": {},
   "source": [
    "Uses Riot Developer's api V3 (https://developer.riotgames.com/) and seeded data to predict the \"highest achieved season tier\" for each player using the data from matches as features."
   ]
  },
  {
   "cell_type": "code",
   "execution_count": 41,
   "metadata": {
    "collapsed": true
   },
   "outputs": [],
   "source": [
    "import pandas as pd\n",
    "# import numpy as np\n",
    "import time"
   ]
  },
  {
   "cell_type": "markdown",
   "metadata": {},
   "source": [
    "## Read API key"
   ]
  },
  {
   "cell_type": "markdown",
   "metadata": {},
   "source": [
    "### Get your own API key from https://developer.riotgames.com/ and put it in api_key.txt"
   ]
  },
  {
   "cell_type": "code",
   "execution_count": 42,
   "metadata": {
    "collapsed": true
   },
   "outputs": [],
   "source": [
    "# Reads the api key from a .txt file \"api_key.txt\"\n",
    "\n",
    "file_path = \"api_key.txt\"\n",
    "\n",
    "api_key = \"\"\n",
    "\n",
    "with open(file_path) as f:\n",
    "    api_key = f.readline()"
   ]
  },
  {
   "cell_type": "markdown",
   "metadata": {},
   "source": [
    "## Function for searching by summoner name"
   ]
  },
  {
   "cell_type": "code",
   "execution_count": 43,
   "metadata": {
    "collapsed": true
   },
   "outputs": [],
   "source": [
    "import json\n",
    "import requests\n",
    "\n",
    "# Searches name in api and returns the player's account id\n",
    "def get_account_id(name):\n",
    "    \n",
    "    URL = \"https://na1.api.riotgames.com/lol/summoner/v3/summoners/\"\n",
    "    \n",
    "    URI = \"{}by-name/{}?api_key={}\".format(URL, name, api_key)\n",
    "    response = requests.get(URI)\n",
    "    account_id = response.json()['accountId']\n",
    "    return account_id"
   ]
  },
  {
   "cell_type": "markdown",
   "metadata": {},
   "source": [
    "## Function for getting the match_ids of the last 20 matches played with summoner name"
   ]
  },
  {
   "cell_type": "code",
   "execution_count": 44,
   "metadata": {
    "collapsed": true
   },
   "outputs": [],
   "source": [
    "# Searches name in api and returns a list of match ids of the last 20 matches played\n",
    "def get_match_ids(name):\n",
    "    \n",
    "    match_ids = []\n",
    "    \n",
    "    URL = \"https://na1.api.riotgames.com/lol/match/v3/matchlists/\"\n",
    "    \n",
    "    account_id = get_account_id(name)\n",
    "    \n",
    "    URI = \"{}by-account/{}/recent?api_key={}\".format(URL, account_id, api_key)\n",
    "    response = requests.get(URI)\n",
    "    \n",
    "    for matches in response.json()['matches']:\n",
    "        match_id = matches['gameId']\n",
    "        match_ids.append(match_id)\n",
    "    \n",
    "    return match_ids"
   ]
  },
  {
   "cell_type": "markdown",
   "metadata": {},
   "source": [
    "## Function for getting dataframe of player's stats with the summoner name"
   ]
  },
  {
   "cell_type": "code",
   "execution_count": 45,
   "metadata": {
    "collapsed": true
   },
   "outputs": [],
   "source": [
    "# Searches name in api and returns a dataframe of the player's stats\n",
    "def get_stats(name):\n",
    "    \n",
    "    stats_df = pd.DataFrame(columns = ['win', 'role', 'kills', 'deaths', 'assists', 'gameDuration', 'goldEarned', 'goldPerMinDeltas', 'totalMinionsKilled', 'damageDealtToObjectives', 'totalDamageDealt', 'totalDamageTaken', 'wardsPlaced', 'highestAchievedSeasonTier'])\n",
    "    matches = []\n",
    "    participant_ids = []\n",
    "    \n",
    "    URL = \"https://na1.api.riotgames.com/lol/match/v3/\"\n",
    "    \n",
    "    account_id = get_account_id(name)\n",
    "    match_ids = get_match_ids(name)\n",
    "    \n",
    "    # Gets participant id of the match from all 20 matches\n",
    "    for match_id in match_ids:\n",
    "        URI = \"{}matches/{}?api_key={}\".format(URL, match_id, api_key)\n",
    "        response = requests.get(URI)\n",
    "        \n",
    "        matches.append(response.json())\n",
    "        \n",
    "        for participant in response.json()['participantIdentities']:\n",
    "            if participant['player']['accountId'] == account_id:\n",
    "                participant_id = participant['participantId']\n",
    "                participant_ids.append(participant_id)\n",
    "                \n",
    "        # .2 second delay for rate api rate limits\n",
    "        time.sleep(.2)\n",
    "        \n",
    "    # Gets player's stats and inserts it into a dataframe\n",
    "    for match in matches:\n",
    "        for participant in match['participants']:\n",
    "            if participant['participantId'] == participant_ids[0]:\n",
    "                stats_df = stats_df.append({'win': participant['stats']['win'],\n",
    "                                            'role': participant['timeline']['role'],\n",
    "                                            'kills': participant['stats']['kills'],\n",
    "                                            'deaths': participant['stats']['deaths'],\n",
    "                                            'assists': participant['stats']['assists'],\n",
    "                                            'gameDuration': match['gameDuration'],\n",
    "                                            'goldEarned': participant['stats']['goldEarned'],\n",
    "                                            'goldPerMinDeltas': participant['timeline']['goldPerMinDeltas'].get('10-20'),\n",
    "                                            'totalMinionsKilled': participant['stats']['totalMinionsKilled'],\n",
    "                                            'damageDealtToObjectives': participant['stats']['damageDealtToObjectives'],\n",
    "                                            'totalDamageDealt': participant['stats']['totalDamageDealt'],\n",
    "                                            'totalDamageTaken': participant['stats']['totalDamageTaken'],\n",
    "                                            'wardsPlaced': participant['stats']['wardsPlaced'],\n",
    "                                            'highestAchievedSeasonTier': participant['highestAchievedSeasonTier']}, ignore_index=True)\n",
    "\n",
    "                participant_ids.pop(0)\n",
    "                break\n",
    "                \n",
    "    return stats_df\n",
    "            "
   ]
  },
  {
   "cell_type": "code",
   "execution_count": 46,
   "metadata": {
    "scrolled": false
   },
   "outputs": [
    {
     "name": "stdout",
     "output_type": "stream",
     "text": [
      "name: Imaqtpie\n",
      "\n",
      "account id: 32639237\n",
      "\n",
      "match ids: [2634541288, 2634537914, 2634528085, 2634534978, 2629001744, 2628979135, 2628984310, 2628971679, 2628769295, 2628817078, 2628814705, 2628802983, 2628762055, 2628810855, 2623341442, 2623239133, 2623228110, 2623236486, 2622640204, 2622629152]\n",
      "\n",
      "stats: \n",
      "      win         role kills deaths assists gameDuration goldEarned  \\\n",
      "0    True  DUO_SUPPORT     5      3      17         1870      11114   \n",
      "1   False    DUO_CARRY     1     10       1          941       4720   \n",
      "2    True  DUO_SUPPORT     2      2      18         1336       6783   \n",
      "3    True    DUO_CARRY     6      5       6         1645      10350   \n",
      "4   False         SOLO     7      5       8         2006      13597   \n",
      "5   False    DUO_CARRY     1      6       2         1217       6095   \n",
      "6    True         NONE     7      8      17         1943      13961   \n",
      "7    True         SOLO     5      4       9         1876      13968   \n",
      "8   False    DUO_CARRY    12     10       3         1814      14052   \n",
      "9    True         NONE    10      5       5         1824      15339   \n",
      "10  False    DUO_CARRY     5      6       5         1795      11924   \n",
      "11  False    DUO_CARRY     4      5       4         1431       9340   \n",
      "12   True    DUO_CARRY     9      5      13         1548      13077   \n",
      "13   True    DUO_CARRY     4      2       5         1385       8998   \n",
      "14  False    DUO_CARRY     1      4       2         1391       7421   \n",
      "15  False         NONE     8      9       3         1739      10720   \n",
      "16  False    DUO_CARRY     1      8       6         1870      10151   \n",
      "17  False    DUO_CARRY     0      4       4         1459       7914   \n",
      "18  False    DUO_CARRY     2      9       4         1753      10346   \n",
      "19  False    DUO_CARRY     4      4       1         1147       6692   \n",
      "\n",
      "   goldPerMinDeltas totalMinionsKilled damageDealtToObjectives  \\\n",
      "0             337.2                 48                     905   \n",
      "1              None                 81                       0   \n",
      "2             345.2                 33                    1508   \n",
      "3             381.6                171                    1957   \n",
      "4             540.9                231                    1791   \n",
      "5             293.8                113                       0   \n",
      "6             424.4                 51                   10085   \n",
      "7             450.7                229                    7912   \n",
      "8               465                220                    6473   \n",
      "9             405.8                235                   15741   \n",
      "10            534.3                223                    8308   \n",
      "11            459.4                170                     651   \n",
      "12              483                195                   15780   \n",
      "13              472                174                    6589   \n",
      "14            281.7                178                    1175   \n",
      "15            341.1                 36                       0   \n",
      "16            365.5                217                    3094   \n",
      "17            298.2                190                    1767   \n",
      "18            486.3                175                    6699   \n",
      "19             None                118                    1614   \n",
      "\n",
      "   totalDamageDealt totalDamageTaken wardsPlaced highestAchievedSeasonTier  \n",
      "0             29087            20768          35                CHALLENGER  \n",
      "1             33063            11800           5                CHALLENGER  \n",
      "2             24003            12618          13                CHALLENGER  \n",
      "3             99374            14768          12                CHALLENGER  \n",
      "4            189058            15370          14                CHALLENGER  \n",
      "5             48317            11136           7                CHALLENGER  \n",
      "6            194047            35314           6                CHALLENGER  \n",
      "7            168348            19085          17                CHALLENGER  \n",
      "8            163490            29611          10                CHALLENGER  \n",
      "9            178677            17313          10                CHALLENGER  \n",
      "10           169809            23605          14                CHALLENGER  \n",
      "11            89032            16542           8                CHALLENGER  \n",
      "12           143669            19457          10                CHALLENGER  \n",
      "13            86688             9133          10                CHALLENGER  \n",
      "14            78228            11532          10                CHALLENGER  \n",
      "15           139331            26045          11                CHALLENGER  \n",
      "16           132323            21245          14                CHALLENGER  \n",
      "17            74032            13226           8                CHALLENGER  \n",
      "18            94312            22037          10                CHALLENGER  \n",
      "19            55825            12743           7                CHALLENGER  \n",
      "\n",
      "\n"
     ]
    }
   ],
   "source": [
    "name = \"Imaqtpie\"\n",
    "print(\"name: {}\\n\".format(name))\n",
    "\n",
    "account_id = get_account_id(name)\n",
    "print(\"account id: {}\\n\".format(account_id))\n",
    "\n",
    "match_ids = get_match_ids(name)\n",
    "print(\"match ids: {}\\n\".format(match_ids))\n",
    "\n",
    "stats = get_stats(name)\n",
    "print(\"stats: \")\n",
    "print(stats)\n",
    "print(\"\\n\")\n",
    "\n",
    "# TODO: GET THE MEAN OF THE STATS OF THE LAST 20 MATCHES\n",
    "\n",
    "# TODO: TEST THE MEAN OF THE STATS ON THE TRAINED DATASET"
   ]
  },
  {
   "cell_type": "code",
   "execution_count": 47,
   "metadata": {
    "collapsed": true
   },
   "outputs": [],
   "source": [
    "# TODO: CREATE DATAFRAME USING https://s3-us-west-1.amazonaws.com/riot-developer-portal/seed-data/matches1.json (matches1-10)\n",
    "\n",
    "# TODO: TRAIN/TEST USING DATA, TEST ACCURACY\n",
    "\n",
    "# TODO: TEST USING DATA OUTSIDE OF DATASET WITH THE MEAN OF get_stats() FUNCTION"
   ]
  }
 ],
 "metadata": {
  "kernelspec": {
   "display_name": "Python 3",
   "language": "python",
   "name": "python3"
  },
  "language_info": {
   "codemirror_mode": {
    "name": "ipython",
    "version": 3
   },
   "file_extension": ".py",
   "mimetype": "text/x-python",
   "name": "python",
   "nbconvert_exporter": "python",
   "pygments_lexer": "ipython3",
   "version": "3.6.2"
  }
 },
 "nbformat": 4,
 "nbformat_minor": 2
}
